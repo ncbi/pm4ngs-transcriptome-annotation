{
 "cells": [
  {
   "cell_type": "markdown",
   "metadata": {},
   "source": [
    "# Vector detection using Blast and the NCBI UniVec database"
   ]
  },
  {
   "cell_type": "code",
   "execution_count": null,
   "metadata": {},
   "outputs": [],
   "source": [
    "%run ../config/init.py"
   ]
  },
  {
   "cell_type": "markdown",
   "metadata": {},
   "source": [
    "## Testing gcloud configuration\n",
    "\n",
    "### Requirements\n",
    "\n",
    "#### [Cloud SDK](https://cloud.google.com/sdk)\n",
    "\n",
    "\n",
    "Run *gcloud init* to initialize the gcloud environment and follow its instructions:\n",
    "\n",
    " `$ gcloud init`\n",
    " "
   ]
  },
  {
   "cell_type": "code",
   "execution_count": null,
   "metadata": {},
   "outputs": [],
   "source": [
    "account = !gcloud config get-value account\n",
    "account = ''.join(account)\n",
    "project = !gcloud config get-value project\n",
    "project = ''.join(project)\n",
    "if account != '(unset)' and project != '(unset)':\n",
    "    print('Using account: {} with project: {}'.format(account, project))\n",
    "else:\n",
    "    print('Please, configure Cloud SDK before running this notebook')\n",
    "    print('Open a Terminal and run: gcloud init')"
   ]
  },
  {
   "cell_type": "markdown",
   "metadata": {},
   "source": [
    "### Defining variables\n",
    "\n",
    "Edit GCP zone and region variable accordingly to your geographical location."
   ]
  },
  {
   "cell_type": "code",
   "execution_count": null,
   "metadata": {},
   "outputs": [],
   "source": [
    "ZONE = 'us-east4'\n",
    "REGION = 'us-east4-c'\n",
    "QUERY_SIZE = 10000\n",
    "# Prices from 06/09/2021\n",
    "PRICE = 0.64\n",
    "MACHINE_TYPE = \"n1-standard-64\"\n",
    "TRANSCRIPTOME_NAME = 'Trinity.fasta.gz'\n",
    "TRANSCRIPTOME_FILE = os.path.join(RESULTS, DATASET, 'trinity_assembly', TRANSCRIPTOME_NAME)"
   ]
  },
  {
   "cell_type": "markdown",
   "metadata": {},
   "source": [
    "### Creating working directory"
   ]
  },
  {
   "cell_type": "code",
   "execution_count": null,
   "metadata": {},
   "outputs": [],
   "source": [
    "result_dir = os.path.join(RESULTS, DATASET)\n",
    "if not os.path.exists(result_dir):\n",
    "    os.mkdir(result_dir) \n",
    "os.chdir(result_dir)\n",
    "result_dir = os.path.join(result_dir, 'fasta')\n",
    "if not os.path.exists(result_dir):\n",
    "    os.mkdir(result_dir) \n",
    "os.chdir(result_dir)"
   ]
  },
  {
   "cell_type": "markdown",
   "metadata": {},
   "source": [
    "### Create or retrieve GCP storage bucket"
   ]
  },
  {
   "cell_type": "code",
   "execution_count": null,
   "metadata": {},
   "outputs": [],
   "source": [
    "bucket_list = !gsutil ls\n",
    "bucket = None\n",
    "\n",
    "prefix = 'gs://{}-vector-'.format(DATASET.lower())\n",
    "for l in bucket_list:\n",
    "    if prefix in l:\n",
    "        bucket = l.replace('gs://{}-vector-'.format(DATASET.lower()),'').replace('/','')\n",
    "        break\n",
    "\n",
    "vector_bucket  = '{}-vector-{}'.format(DATASET.lower(),bucket)\n",
    "print('vector bucket: {0}'.format(vector_bucket))\n",
    "\n",
    "out_bucket = '{}-data-{}'.format(DATASET.lower(), bucket)\n",
    "bucket_list = !gsutil ls gs://{out_bucket}\n",
    "if ''.join(bucket_list).startswith('BucketNotFoundException'):\n",
    "    !gsutil mb gs://{out_bucket}\n",
    "    !gsutil cp {TRANSCRIPTOME_FILE} gs://{out_bucket}/\n"
   ]
  },
  {
   "cell_type": "markdown",
   "metadata": {},
   "source": [
    "### Submitting jobs\n",
    "After running this cell you should go to the [Google Cloud Console](https://console.cloud.google.com/compute) to visualize all running instances."
   ]
  },
  {
   "cell_type": "code",
   "execution_count": null,
   "metadata": {},
   "outputs": [],
   "source": [
    "if not os.path.exists('operations.tsv'):\n",
    "    PIPELINE_JSON = os.path.join(BIN, 'gcp', 'pipeline-transcriptome-cleanup.json')\n",
    "    a = !gcloud beta lifesciences pipelines run --pipeline-file={PIPELINE_JSON} --env-vars=QUERY_SIZE={QUERY_SIZE},EVALUE=700,INBUCKET={out_bucket},TRANSCRIPTOME={TRANSCRIPTOME_NAME}\n",
    "    if len(a) == 1 and a[0].startswith('Running'):\n",
    "        a = a[0].replace('].','').split('/')[5]\n",
    "        print('Job submitted with ID: {}'.format(a))\n",
    "        with open('operations.tsv', 'w') as fout:\n",
    "            fout.write('{}\\n'.format(a))\n",
    "    else:\n",
    "        print('Error!!')\n",
    "        print(a)\n",
    "else:\n",
    "    with open('operations.tsv') as fin:\n",
    "        a = int(fin.read().strip())\n",
    "        print('Job ID: {}'.format(a))"
   ]
  },
  {
   "cell_type": "code",
   "execution_count": null,
   "metadata": {
    "scrolled": false,
    "pycharm": {
     "name": "#%%\n"
    }
   },
   "outputs": [],
   "source": [
    "if os.path.exists('{}_log.json.gz'.format(a)):\n",
    "    with gzip.GzipFile('{}_log.json.gz'.format(a), 'r') as fin:\n",
    "        log = json.loads(fin.read().decode('utf-8'))\n",
    "else:\n",
    "    log = !gcloud beta lifesciences operations describe --format=json {a}\n",
    "    log = json.loads(''.join(log))\n",
    "    if log['done'] == True and 'error' not in log:\n",
    "        with gzip.GzipFile('{}_log.json.gz'.format(a), 'w') as fout:   # 4. gzip\n",
    "            fout.write(json.dumps(log, indent=2).encode('utf-8'))\n",
    "    else:\n",
    "        log['done'] = False\n",
    "        print('Workflow still running or finished with error')\n",
    "        print(json.dumps(log, indent=4))\n",
    "\n",
    "if log['done'] == True:\n",
    "    ts = get_gpc_starttimestamp(log)\n",
    "    ts = datetime.strptime(ts.split('.')[0], \"%Y-%m-%dT%H:%M:%S\")\n",
    "    te = te = datetime.strptime(log['metadata']['endTime'].split('.')[0], \"%Y-%m-%dT%H:%M:%S\")\n",
    "    elapsed = (te - ts)/pandas.Timedelta('1 minute')\n",
    "    print('Workflow finished correctly in {} minutes with cost $ {:.2f}'.format(elapsed, elapsed/60 * PRICE))"
   ]
  }
 ],
 "metadata": {
  "kernelspec": {
   "display_name": "Python 3",
   "language": "python",
   "name": "python3"
  },
  "language_info": {
   "codemirror_mode": {
    "name": "ipython",
    "version": 3
   },
   "file_extension": ".py",
   "mimetype": "text/x-python",
   "name": "python",
   "nbconvert_exporter": "python",
   "pygments_lexer": "ipython3",
   "version": "3.8.10"
  }
 },
 "nbformat": 4,
 "nbformat_minor": 4
}