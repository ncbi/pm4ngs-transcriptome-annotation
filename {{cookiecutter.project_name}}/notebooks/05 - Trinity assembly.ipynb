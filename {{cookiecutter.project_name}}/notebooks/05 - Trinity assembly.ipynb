{
 "cells": [
  {
   "cell_type": "markdown",
   "id": "b430229a",
   "metadata": {},
   "source": [
    "## Trinity assembly"
   ]
  },
  {
   "cell_type": "code",
   "execution_count": null,
   "id": "d724b5dc",
   "metadata": {},
   "outputs": [],
   "source": [
    "%run ../config/init.py"
   ]
  },
  {
   "cell_type": "markdown",
   "id": "64c9e5d3",
   "metadata": {},
   "source": [
    "### Loading data from {{ cookiecutter.dataset_name }}/sample_table.csv accession list\n",
    "\n",
    "The file `{{ cookiecutter.dataset_name }}/sample_table.cs` should contains a single column with all SRA IDs to be processed."
   ]
  },
  {
   "cell_type": "code",
   "execution_count": null,
   "id": "07c93a83",
   "metadata": {},
   "outputs": [],
   "source": [
    "data_dir = os.path.join(DATA, DATASET)\n",
    "result_dir = working_dir(os.path.join(RESULTS, DATASET, 'trinity_assembly'))\n",
    "\n",
    "sra_df = pandas.read_csv(os.path.join(DATA, DATASET, 'sample_table.csv'), header=None)\n",
    "sra_df"
   ]
  },
  {
   "cell_type": "markdown",
   "id": "c3c19630",
   "metadata": {},
   "source": [
    "## Testing gcloud configuration\n",
    "\n",
    "### Requirements\n",
    "\n",
    "#### [Cloud SDK](https://cloud.google.com/sdk)\n",
    "\n",
    "\n",
    "Run *gcloud init* to initialize the gcloud environment and follow its instructions:\n",
    "\n",
    " `$ gcloud init`"
   ]
  },
  {
   "cell_type": "code",
   "execution_count": null,
   "id": "f7e73363",
   "metadata": {},
   "outputs": [],
   "source": [
    "account = !gcloud config get-value account\n",
    "account = ''.join(account)\n",
    "project = !gcloud config get-value project\n",
    "project = ''.join(project)\n",
    "if account != '(unset)' and project != '(unset)':\n",
    "    print('Using account: {} with project: {}'.format(account, project))\n",
    "else:\n",
    "    print('Please, configure Cloud SDK before running this notebook')\n",
    "    print('Open a Terminal and run: gcloud init')"
   ]
  },
  {
   "cell_type": "markdown",
   "id": "1b9049aa",
   "metadata": {},
   "source": [
    "### Defining variables\n",
    "\n",
    "Edit GCP zone and region variable accordingly to your geographical location."
   ]
  },
  {
   "cell_type": "code",
   "execution_count": null,
   "id": "8717beff",
   "metadata": {},
   "outputs": [],
   "source": [
    "REGION = 'us-east4'\n",
    "ZONE = 'us-east4-c'"
   ]
  },
  {
   "cell_type": "markdown",
   "id": "677acf7a",
   "metadata": {},
   "source": [
    "### Retrieve GCP storage bucket"
   ]
  },
  {
   "cell_type": "code",
   "execution_count": null,
   "id": "49cc27d7",
   "metadata": {},
   "outputs": [],
   "source": [
    "bucket_list = !gsutil ls\n",
    "bucket = None\n",
    "\n",
    "prefix = 'gs://{}-vector-'.format(DATASET.lower())\n",
    "for l in bucket_list:\n",
    "    if prefix in l:\n",
    "        bucket = l.replace('gs://{}-vector-'.format(DATASET.lower()),'').replace('/','')\n",
    "        break\n",
    "\n",
    "vector_bucket  = '{}-vector-{}'.format(DATASET.lower(),bucket)\n",
    "print('vector bucket: {0}'.format(vector_bucket))\n",
    "\n",
    "out_bucket = '{}-trinity-{}'.format(DATASET.lower(), bucket)\n",
    "bucket_list = !gsutil ls gs://{out_bucket}\n",
    "if ''.join(bucket_list).startswith('BucketNotFoundException'):\n",
    "    !gsutil mb gs://{out_bucket}"
   ]
  },
  {
   "cell_type": "markdown",
   "id": "e6806483",
   "metadata": {},
   "source": [
    "## Submitting job"
   ]
  },
  {
   "cell_type": "code",
   "execution_count": null,
   "id": "16600578",
   "metadata": {},
   "outputs": [],
   "source": [
    "operations = {}\n",
    "PIPELINE = os.path.join(BIN, 'gcp', 'pipeline-trinity.json')\n",
    "\n",
    "os.chdir(result_dir)\n",
    "       \n",
    "if os.path.exists('operations-trinity.tsv'):\n",
    "    operations['logs'] = {}\n",
    "    with open('operations-trinity.tsv') as fin:\n",
    "        operations['operations'] = fin.readline().strip()\n",
    "else:\n",
    "    trinity_yml = {\n",
    "        \"max_memory\" : \"500G\",\n",
    "        \"CPU\": 128,\n",
    "        \"output\": \"trinity\",\n",
    "        \"seqType\": \"fq\",\n",
    "{% if cookiecutter.sequencing_technology == 'paired-end' %}\n",
    "        \"left\": [],\n",
    "        \"right\": []\n",
    "{% else %}\n",
    "        \"single\": []\n",
    "{% endif %}\n",
    "    }\n",
    "    for s in sra_df[0].unique():\n",
    "{% if cookiecutter.sequencing_technology == 'paired-end' %}\n",
    "        trinity_yml['left'].append(\n",
    "            {'class': 'File', 'path': '/data/{}_clean_noCont_1.fastq.gz'.format(s)}\n",
    "        )\n",
    "        trinity_yml['right'].append(\n",
    "            {'class': 'File', 'path': '/data/{}_clean_noCont_2.fastq.gz'.format(s)}\n",
    "        )\n",
    "{% else %}\n",
    "        trinity_yml['single'].append(\n",
    "            {'class': 'File', 'path': '/data/{}_clean_noCont.fastq.gz'.format(s)}\n",
    "        )\n",
    "{% endif %}\n",
    "    write_to_yaml(trinity_yml, \"trinity.yml\")  \n",
    "    !gsutil cp trinity.yml gs://{vector_bucket}\n",
    "    a = !gcloud beta lifesciences pipelines run --pipeline-file={PIPELINE} --env-vars=OUTBUCKET={out_bucket},INBUCKET={vector_bucket}\n",
    "    if len(a) == 1 and a[0].startswith('Running'):\n",
    "        a = a[0].replace('].','').split('/')[5]\n",
    "        operations['operations'] = a\n",
    "        with open('operations-trinity.tsv', 'w') as fout:\n",
    "            fout.write('{}\\n'.format(a))\n",
    "    else:\n",
    "        print(\"ERROR:\\n\" + a)\n",
    "print('Operation: ' +  operations['operations'])        "
   ]
  },
  {
   "cell_type": "code",
   "execution_count": null,
   "id": "93df8820",
   "metadata": {},
   "outputs": [],
   "source": [
    "id = operations['operations']\n",
    "a = !gcloud beta lifesciences operations describe --format=json {id}\n",
    "l = json.loads(''.join(a))\n",
    "if 'done' in l and l['done'] and 'error' not in l:\n",
    "    operations['logs'][r['sample']] = l\n",
    "    with gzip.GzipFile('{}_trinity.json.gz'.format(r['sample']), 'w') as fout:   # 4. gzip\n",
    "        fout.write(json.dumps(l, indent=2).encode('utf-8'))\n",
    "    ts = get_gpc_starttimestamp(l)\n",
    "    ts = datetime.strptime(ts.split('.')[0], \"%Y-%m-%dT%H:%M:%S\")\n",
    "    te = datetime.strptime(l['metadata']['endTime'].split('.')[0], \"%Y-%m-%dT%H:%M:%S\")\n",
    "    elapsed = (te - ts)/pandas.Timedelta('1 minute')\n",
    "    MACHINE_PRICE = 1.308544 # n2d-standard-128 1.308544 Preemptible\n",
    "    print('Computig cost: $ {:.2f}'.format(elapsed * MACHINE_PRICE/60))\n",
    "else:\n",
    "    print(\"ERROR\")\n",
    "    print(l['error'])"
   ]
  },
  {
   "cell_type": "markdown",
   "id": "c917a5e0",
   "metadata": {},
   "source": [
    "## Downloading assembly results from GCP"
   ]
  },
  {
   "cell_type": "code",
   "execution_count": null,
   "id": "1b130d6d",
   "metadata": {
    "pycharm": {
     "name": "#%%\n"
    }
   },
   "outputs": [],
   "source": [
    "os.chdir(result_dir)\n",
    "!gsutil -m -o 'GSUtil:parallel_composite_upload_threshold=150M' -o 'GSUtil:parallel_process_count=4' -o 'GSUtil:parallel_thread_count=4' rsync -x '.*\\.fastq\\.gz' gs://{out_bucket}/ ./\n",
    "!gzip Trinity.fasta"
   ]
  }
 ],
 "metadata": {
  "kernelspec": {
   "display_name": "Python 3",
   "language": "python",
   "name": "python3"
  },
  "language_info": {
   "codemirror_mode": {
    "name": "ipython",
    "version": 3
   },
   "file_extension": ".py",
   "mimetype": "text/x-python",
   "name": "python",
   "nbconvert_exporter": "python",
   "pygments_lexer": "ipython3",
   "version": "3.8.10"
  }
 },
 "nbformat": 4,
 "nbformat_minor": 5
}