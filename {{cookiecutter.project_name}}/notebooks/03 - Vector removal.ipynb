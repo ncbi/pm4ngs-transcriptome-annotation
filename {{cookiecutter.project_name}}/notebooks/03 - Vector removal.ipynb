{
 "cells": [
  {
   "cell_type": "markdown",
   "id": "0c481694",
   "metadata": {},
   "source": [
    "## Vector removal"
   ]
  },
  {
   "cell_type": "code",
   "execution_count": null,
   "id": "2ef35df2",
   "metadata": {},
   "outputs": [],
   "source": [
    "%run ../config/init.py"
   ]
  },
  {
   "cell_type": "markdown",
   "id": "8c50bc48",
   "metadata": {},
   "source": [
    "### Loading data from {{ cookiecutter.dataset_name }}/sample_table.csv accession list\n",
    "\n",
    "The file `{{ cookiecutter.dataset_name }}/sample_table.cs` should contains a single column with all SRA IDs to be processed."
   ]
  },
  {
   "cell_type": "code",
   "execution_count": null,
   "id": "aa2f24c5",
   "metadata": {},
   "outputs": [],
   "source": [
    "data_dir = os.path.join(DATA, DATASET)\n",
    "result_dir = working_dir(os.path.join(RESULTS, DATASET, 'vector_cleanup'))\n",
    "\n",
    "sra_df = pandas.read_csv(os.path.join(DATA, DATASET, 'sample_table.csv'), header=None)\n",
    "sra_df"
   ]
  },
  {
   "cell_type": "markdown",
   "id": "7426f13b",
   "metadata": {},
   "source": [
    "## Testing gcloud configuration\n",
    "\n",
    "### Requirements\n",
    "\n",
    "#### [Cloud SDK](https://cloud.google.com/sdk)\n",
    "\n",
    "\n",
    "Run *gcloud init* to initialize the gcloud environment and follow its instructions:\n",
    "\n",
    " `$ gcloud init`"
   ]
  },
  {
   "cell_type": "code",
   "execution_count": null,
   "id": "dd41efdd",
   "metadata": {},
   "outputs": [],
   "source": [
    "account = !gcloud config get-value account\n",
    "account = ''.join(account)\n",
    "project = !gcloud config get-value project\n",
    "project = ''.join(project)\n",
    "if account != '(unset)' and project != '(unset)':\n",
    "    print('Using account: {} with project: {}'.format(account, project))\n",
    "else:\n",
    "    print('Please, configure Cloud SDK before running this notebook')\n",
    "    print('Open a Terminal and run: gcloud init')"
   ]
  },
  {
   "cell_type": "markdown",
   "id": "62ee3975",
   "metadata": {},
   "source": [
    "### Defining variables\n",
    "\n",
    "Edit GCP zone and region variable accordingly to your geographical location."
   ]
  },
  {
   "cell_type": "code",
   "execution_count": null,
   "id": "98116c8f",
   "metadata": {},
   "outputs": [],
   "source": [
    "REGION = 'us-east4'\n",
    "ZONE = 'us-east4-c'"
   ]
  },
  {
   "cell_type": "markdown",
   "id": "e14ab3b2",
   "metadata": {},
   "source": [
    "### Retrieve GCP storage bucket"
   ]
  },
  {
   "cell_type": "code",
   "execution_count": null,
   "id": "eb9a0817",
   "metadata": {},
   "outputs": [],
   "source": [
    "bucket_list = !gsutil ls\n",
    "bucket = None\n",
    "\n",
    "prefix = 'gs://transcriptome-trimming-'\n",
    "for l in bucket_list:\n",
    "    if prefix in l:\n",
    "        bucket = l.replace('gs://transcriptome-trimming-','').replace('/','')\n",
    "        break\n",
    "\n",
    "trimming_bucket = 'transcriptome-trimming-' + bucket\n",
    "vector_bucket  = 'transcriptome-vector-' + bucket\n",
    "        \n",
    "bucket_list = !gsutil ls gs://{vector_bucket}\n",
    "if ''.join(bucket_list).startswith('BucketNotFoundException'):\n",
    "    !gsutil mb -l {ZONE} gs://{vector_bucket}\n",
    "        \n",
    "        \n",
    "print('trimming bucket: {0}'.format(trimming_bucket))\n",
    "print('vector bucket: {0}'.format(vector_bucket))"
   ]
  },
  {
   "cell_type": "markdown",
   "id": "40137047",
   "metadata": {},
   "source": [
    "### Submitting jobs for vector cleanup  to GCP"
   ]
  },
  {
   "cell_type": "code",
   "execution_count": null,
   "id": "a3e7203c",
   "metadata": {},
   "outputs": [],
   "source": [
    "operations = {}\n",
    "PIPELINE = os.path.join(BIN, 'gcp', 'pipeline-transcriptome-fastq-cleanup.json')\n",
    "\n",
    "os.chdir(result_dir)\n",
    "op_dir = os.path.join(result_dir, 'gcp')\n",
    "if not os.path.exists(op_dir):\n",
    "    os.mkdir(op_dir) \n",
    "os.chdir(op_dir)\n",
    "       \n",
    "if os.path.exists('operations-vector-fastq-pe.tsv'):\n",
    "    operations['logs'] = {}\n",
    "    operations['operations'] = pandas.read_csv('operations-vector-fastq-pe.tsv', sep='\\t')\n",
    "else:\n",
    "    d = []\n",
    "    for f in sra_df[0].unique():\n",
    "        a = !gcloud beta lifesciences pipelines run --pipeline-file={PIPELINE} --env-vars=OUTBUCKET={vector_bucket},INBUCKET={trimming_bucket},SAMPLE={f}\n",
    "        if len(a) == 1 and a[0].startswith('Running'):\n",
    "            a = a[0].replace('].','').split('/')[5]\n",
    "            d.append([f, a, 'running'])\n",
    "        else:\n",
    "            d.append([f, None, a])\n",
    "    operations['logs'] = {}\n",
    "    operations['operations'] = pandas.DataFrame(d, columns=['sample', 'id', 'status'])\n",
    "    operations['operations'].to_csv('operations-vector-fastq-pe.tsv', sep='\\t', index=None)\n",
    "\n",
    "display(operations['operations'])"
   ]
  },
  {
   "cell_type": "markdown",
   "id": "1bee264b",
   "metadata": {},
   "source": [
    "### GCP log retrival for plotting\n",
    "This cell will download the GCP logs for completed operations (jobs) creating the `[sample.json` files for each sample. \n",
    "\n",
    "You should executed it multiple times until all operations are completed. "
   ]
  },
  {
   "cell_type": "code",
   "execution_count": null,
   "id": "900cee73",
   "metadata": {},
   "outputs": [],
   "source": [
    "os.chdir(op_dir)\n",
    "    \n",
    "df = operations['operations'].dropna()\n",
    "data = []                \n",
    "for i, r in df.iterrows():\n",
    "    id = r['id']\n",
    "    if os.path.exists('{}.json.gz'.format(r['sample'])):\n",
    "        with gzip.GzipFile('{}.json.gz'.format(r['sample']), 'r') as fin:  \n",
    "            operations['logs'][r['sample']] = json.loads(fin.read().decode('utf-8'))\n",
    "    else:\n",
    "        if r['sample'] not in operations['logs']:\n",
    "            a = !gcloud beta lifesciences operations describe --format=json {id}\n",
    "            l = json.loads(''.join(a))\n",
    "            if 'done' in l:\n",
    "                operations['logs'][r['sample']] = l\n",
    "                with gzip.GzipFile('{}.json.gz'.format(r['sample']), 'w') as fout:   # 4. gzip\n",
    "                    fout.write(json.dumps(l, indent=2).encode('utf-8'))  \n",
    "    if r['sample'] in operations['logs']:\n",
    "        ts = get_gpc_starttimestamp(operations['logs'][r['sample']])\n",
    "        ts = datetime.strptime(ts.split('.')[0], \"%Y-%m-%dT%H:%M:%S\")\n",
    "        te = datetime.strptime(operations['logs'][r['sample']]['metadata']['endTime'].split('.')[0], \"%Y-%m-%dT%H:%M:%S\")\n",
    "        elapsed = te - ts\n",
    "        data.append([r['sample'], elapsed])\n",
    "operations['gcp'] = pandas.DataFrame(data, columns=['Sample', 'Time'])\n",
    "operations['gcp']['Time'] = operations['gcp']['Time']/pandas.Timedelta('1 minute')\n",
    "display(operations['gcp'])\n",
    "\n",
    "\n",
    "MACHINE_PRICE = 0.16 # n1-standard-16 preemptible\n",
    "print('Computig cost: $ {:.2f}'.format(operations['gcp']['Time'].sum() * MACHINE_PRICE/60))"
   ]
  },
  {
   "cell_type": "code",
   "execution_count": null,
   "id": "4519bbfc",
   "metadata": {},
   "outputs": [],
   "source": []
  }
 ],
 "metadata": {
  "kernelspec": {
   "display_name": "Python 3",
   "language": "python",
   "name": "python3"
  },
  "language_info": {
   "codemirror_mode": {
    "name": "ipython",
    "version": 3
   },
   "file_extension": ".py",
   "mimetype": "text/x-python",
   "name": "python",
   "nbconvert_exporter": "python",
   "pygments_lexer": "ipython3",
   "version": "3.8.10"
  }
 },
 "nbformat": 4,
 "nbformat_minor": 5
}