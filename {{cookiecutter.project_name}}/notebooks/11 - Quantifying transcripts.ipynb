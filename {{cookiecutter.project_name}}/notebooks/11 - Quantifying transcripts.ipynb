{
 "cells": [
  {
   "cell_type": "code",
   "execution_count": null,
   "metadata": {},
   "outputs": [],
   "source": [
    "%run ../config/init.py\n",
    "import pysam"
   ]
  },
  {
   "cell_type": "code",
   "execution_count": null,
   "metadata": {},
   "outputs": [],
   "source": [
    "sra_df = pandas.read_csv(os.path.join(DATA, DATASET, 'sample_table.csv'), header=None)\n",
    "sra_df"
   ]
  },
  {
   "cell_type": "markdown",
   "source": [
    "### Changing FASTA IDS to use the new GenBank IDs\n",
    "\n",
    "From the TSA submission download the accession list to the submission directory.\n",
    "Set the `ACCESSION_FILE` variable"
   ],
   "metadata": {
    "collapsed": false,
    "pycharm": {
     "name": "#%% md\n"
    }
   }
  },
  {
   "cell_type": "code",
   "execution_count": null,
   "outputs": [],
   "source": [
    "ACCESSION_FILE = 'GISG03_accs'\n",
    "submission_dir = os.path.join(RESULTS, DATASET, 'submission')\n",
    "accs = pandas.read_csv(os.path.join(submission_dir, ACCESSION_FILE), sep='\\t', header=None)\n",
    "accs.head()"
   ],
   "metadata": {
    "collapsed": false,
    "pycharm": {
     "name": "#%%\n"
    }
   }
  },
  {
   "cell_type": "code",
   "execution_count": null,
   "metadata": {},
   "outputs": [],
   "source": [
    "bucket_list = !gsutil ls\n",
    "bucket = None\n",
    "\n",
    "prefix = 'gs://{}-align-'.format(DATASET.lower())\n",
    "for l in bucket_list:\n",
    "    if prefix in l:\n",
    "        bucket = l.replace('gs://{}-align-'.format(DATASET.lower()),'').replace('/','')\n",
    "        break\n",
    "\n",
    "inbucket = '{}-align-{}'.format(DATASET.lower(), bucket)\n",
    "print('bucket: {}'.format(inbucket))"
   ]
  },
  {
   "cell_type": "code",
   "execution_count": null,
   "metadata": {},
   "outputs": [],
   "source": [
    "result_dir = os.path.join(RESULTS, DATASET, 'alignments')\n",
    "os.chdir(result_dir)"
   ]
  },
  {
   "cell_type": "markdown",
   "metadata": {},
   "source": [
    "### Quantifying Trinity genes for all samples."
   ]
  },
  {
   "cell_type": "code",
   "execution_count": null,
   "metadata": {},
   "outputs": [],
   "source": [
    "def worker(sample):\n",
    "    file = 'transcriptome-align-{0}/{1}/{1}_clean_noCont_sorted.bam'.format(bucket, sample)\n",
    "    reads = {}\n",
    "    with pysam.AlignmentFile(file, \"rb\") as samfile, open(os.path.join(result_dir, 'fasta_genbank_ids', 'transcriptome.fsa'), \"r\") as handle:\n",
    "        for record in SeqIO.parse(handle, \"fasta\"):\n",
    "            gene_name = accs[accs[1] == record.id][0].iloc[0]\n",
    "            gene_name = '_'.join(gene_name.split('_')[:4])\n",
    "            iter = samfile.fetch(record.id)\n",
    "            for x in iter:\n",
    "{% if cookiecutter.sequencing_technology == 'paired-end' %}\n",
    "                if x.is_proper_pair:\n",
    "                    v = reads.setdefault(x.qname, set())\n",
    "                    v.add(gene_name)\n",
    "{% else %}\n",
    "                v = reads.setdefault(x.qname, set())\n",
    "                v.add(gene_name)\n",
    "{% endif %}\n",
    "\n",
    "    genes = {}\n",
    "    for r in reads:\n",
    "        if len(reads[r]) == 1:\n",
    "            gene = genes.setdefault(list(reads[r])[0], 0)\n",
    "            genes[list(reads[r])[0]] += 1\n",
    "    print('\\n{}: Genes with unique reads {}'.format(sample, len(genes)))\n",
    "    return (sample, genes, reads)\n",
    "\n",
    "if not os.path.exists('Trinity_Genes_reads.tsv'):\n",
    "    p = Pool(processes=12)\n",
    "    data = p.map(worker, sra_df[0].unique()) \n",
    "\n",
    "    trans = {'len':{}}\n",
    "    with open(os.path.join(result_dir, 'fasta_genbank_ids', 'transcriptome.fsa'), \"r\") as handle:\n",
    "        for record in SeqIO.parse(handle, \"fasta\"):\n",
    "            gene_name = accs[accs[1] == record.id][0].iloc[0]\n",
    "            gene_name = '_'.join(gene_name.split('_')[:4])\n",
    "            if gene_name in trans['len']:\n",
    "                if len(record.seq) > trans['len'][gene_name]:\n",
    "                    trans['len'][gene_name] = len(record.seq)\n",
    "            else:\n",
    "                trans['len'][gene_name] = len(record.seq)\n",
    "\n",
    "    df_reads = pandas.DataFrame.from_dict(trans, orient='columns')     \n",
    "    for d in data:\n",
    "        dd = pandas.DataFrame.from_dict(d[1], orient='index')\n",
    "        dd = dd.rename(columns={0:d[0]})\n",
    "        df_reads = df_reads.join(dd, how='outer')\n",
    "    df_reads = df_reads.fillna(0)\n",
    "\n",
    "    df_reads.to_csv('Trinity_Genes_reads.tsv', index_label='transcript', sep='\\t')\n",
    "\n",
    "    df = df_reads.copy()\n",
    "\n",
    "    for s in sra_df[0].unique(): \n",
    "        sum_const = sum(df[s]/df.len)\n",
    "        df[s] = (df[s] * 1000000)/(df.len * sum_const)\n",
    "\n",
    "    df.to_csv('Trinity_Genes_TPM.tsv', index_label='transcript', sep='\\t')\n",
    "else:\n",
    "    df_reads = pandas.read_csv('Trinity_Genes_reads.tsv', sep='\\t')\n",
    "    df = pandas.read_csv('Trinity_Genes_TPM.tsv', sep='\\t')"
   ]
  },
  {
   "cell_type": "code",
   "execution_count": null,
   "metadata": {},
   "outputs": [],
   "source": [
    "df = pandas.read_csv('Trinity_Genes_reads.tsv', sep='\\t')\n",
    "df.head(20)"
   ]
  },
  {
   "cell_type": "code",
   "execution_count": null,
   "metadata": {},
   "outputs": [],
   "source": [
    "toPlot = []\n",
    "for s in sra_df[0].unique(): \n",
    "    for r in df[s]:\n",
    "        toPlot.append([r, s])\n",
    "d = pandas.DataFrame(toPlot, columns=[\"Reads\", 'Sample'])\n",
    "ax = sns.boxplot(y='Sample', x=\"Reads\", data=d, orient=\"h\", palette=\"Set2\")"
   ]
  },
  {
   "cell_type": "code",
   "execution_count": null,
   "metadata": {},
   "outputs": [],
   "source": [
    "df = pandas.read_csv('Trinity_Genes_TPM.tsv', sep='\\t')\n",
    "df.head(20)"
   ]
  },
  {
   "cell_type": "code",
   "execution_count": null,
   "metadata": {
    "pycharm": {
     "name": "#%%\n"
    }
   },
   "outputs": [],
   "source": [
    "toPlot = []\n",
    "for s in sra_df[0].unique(): \n",
    "    for r in df[s]:\n",
    "        toPlot.append([r, s])\n",
    "d = pandas.DataFrame(toPlot, columns=[\"TPM\", 'Sample'])\n",
    "ax = sns.boxplot(y='Sample', x=\"TPM\", data=d, orient=\"h\", palette=\"Set2\")\n"
   ]
  }
 ],
 "metadata": {
  "kernelspec": {
   "display_name": "Python 3",
   "language": "python",
   "name": "python3"
  },
  "language_info": {
   "codemirror_mode": {
    "name": "ipython",
    "version": 3
   },
   "file_extension": ".py",
   "mimetype": "text/x-python",
   "name": "python",
   "nbconvert_exporter": "python",
   "pygments_lexer": "ipython3",
   "version": "3.8.10"
  }
 },
 "nbformat": 4,
 "nbformat_minor": 4
}