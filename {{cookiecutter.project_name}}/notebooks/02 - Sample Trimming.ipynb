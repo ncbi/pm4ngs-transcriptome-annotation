{
 "cells": [
  {
   "cell_type": "markdown",
   "id": "852784dd",
   "metadata": {},
   "source": [
    "## Trimming samples with Trimmomatic"
   ]
  },
  {
   "cell_type": "code",
   "execution_count": null,
   "id": "bd3f0f4f",
   "metadata": {},
   "outputs": [],
   "source": [
    "%run ../config/init.py"
   ]
  },
  {
   "cell_type": "markdown",
   "id": "cc46e4b1",
   "metadata": {},
   "source": [
    "### Loading data from {{ cookiecutter.dataset_name }}/sample_table.csv accession list\n",
    "\n",
    "The file `{{ cookiecutter.dataset_name }}/sample_table.cs` should contains a single column with all SRA IDs to be processed."
   ]
  },
  {
   "cell_type": "code",
   "execution_count": null,
   "id": "7da94493",
   "metadata": {},
   "outputs": [],
   "source": [
    "data_dir = os.path.join(DATA, DATASET)\n",
    "result_dir = working_dir(os.path.join(RESULTS, DATASET, 'trimmomatic'))\n",
    "\n",
    "sra_df = pandas.read_csv(os.path.join(DATA, DATASET, 'sample_table.csv'), header=None)\n",
    "sra_df"
   ]
  },
  {
   "cell_type": "markdown",
   "id": "54160ca4",
   "metadata": {},
   "source": [
    "## Testing gcloud configuration\n",
    "\n",
    "### Requirements\n",
    "\n",
    "#### [Cloud SDK](https://cloud.google.com/sdk)\n",
    "\n",
    "\n",
    "Run *gcloud init* to initialize the gcloud environment and follow its instructions:\n",
    "\n",
    " `$ gcloud init`"
   ]
  },
  {
   "cell_type": "code",
   "execution_count": null,
   "id": "73d152f5",
   "metadata": {},
   "outputs": [],
   "source": [
    "account = !gcloud config get-value account\n",
    "account = ''.join(account)\n",
    "project = !gcloud config get-value project\n",
    "project = ''.join(project)\n",
    "if account != '(unset)' and project != '(unset)':\n",
    "    print('Using account: {} with project: {}'.format(account, project))\n",
    "else:\n",
    "    print('Please, configure Cloud SDK before running this notebook')\n",
    "    print('Open a Terminal and run: gcloud init')"
   ]
  },
  {
   "cell_type": "markdown",
   "id": "fb1d23ac",
   "metadata": {},
   "source": [
    "### Defining variables\n",
    "\n",
    "Edit GCP zone and region variable accordingly to your geographical location."
   ]
  },
  {
   "cell_type": "code",
   "execution_count": null,
   "id": "abd9ec4c",
   "metadata": {},
   "outputs": [],
   "source": [
    "MACHINE_TYPE = 'n1-standard-16'\n",
    "PREEMPTIBLE = True\n",
    "LOCAL_SSD_SIZE = 375 # 1 disk is size 375, 2 disks are 750 ...\n",
    "\n",
    "# Use zones close to your location. Multiple zones allow more access to resources\n",
    "ZONES = ['us-east1-c', 'us-east1-b','us-east1-d', 'us-east4-a', 'us-east4-b', 'us-east4-c']"
   ]
  },
  {
   "cell_type": "markdown",
   "id": "6837e5ed",
   "metadata": {},
   "source": [
    "### Retrieve GCP storage bucket"
   ]
  },
  {
   "cell_type": "code",
   "execution_count": null,
   "id": "d07c9264",
   "metadata": {},
   "outputs": [],
   "source": [
    "bucket_list = !gsutil ls\n",
    "bucket = None\n",
    "\n",
    "prefix = 'gs://{}-sra-'.format(DATASET.lower())\n",
    "for l in bucket_list:\n",
    "    if prefix in l:\n",
    "        bucket = l.replace('gs://{}-sra-'.format(DATASET.lower()),'').replace('/','')\n",
    "        break\n",
    "\n",
    "inbucket_name = '{}-sra-{}'.format(DATASET.lower(), bucket)\n",
    "print('in bucket: {}'.format(inbucket_name))\n",
    "\n",
    "outbucket_name = '{}-trimming-{}'.format(DATASET.lower(), bucket)\n",
    "\n",
    "bucket_list = !gsutil ls gs://{outbucket_name}\n",
    "if ''.join(bucket_list).startswith('BucketNotFoundException'):\n",
    "    !gsutil mb gs://{outbucket_name}\n",
    "\n",
    "print('out bucket: {}'.format(outbucket_name))"
   ]
  },
  {
   "cell_type": "markdown",
   "id": "efa1c19a",
   "metadata": {},
   "source": [
    "### Creating Trimmomatic workflow input file\n",
    "\n",
    "Trimmomatic options should be modified accordingly with the FastQC report taking into account:\n",
    "\n",
    "{% if cookiecutter.sequencing_technology == 'paired-end' %}\n",
    " * IlluminaClip: TruSeq3-PE.fa:2:30:10\n",
    "{% else %}\n",
    " * IlluminaClip: TruSeq3-SE.fa:2:30:10\n",
    "{% endif %}\n",
    " * Minlen: 25\n",
    " * Avgqual: 30\n",
    " * Leading: 30\n",
    " * Trailing: 30\n",
    " \n",
    "For more info about [Trimmomatic](http://www.usadellab.org/cms/?page=trimmomatic)\n",
    "\n",
    "### More options from the Trimmomatic CWL workflow\n",
    "```\n",
    "       [--avgqual AVGQUAL] \n",
    "       [--crop CROP]       \n",
    "       [--headcrop HEADCROP]\n",
    "       [--illuminaClip ILLUMINACLIP]\n",
    "       [--leading LEADING]\n",
    "       [--maxinfo MAXINFO]\n",
    "       [--minlen MINLEN]\n",
    "       [--phred PHRED]\n",
    "       [--tophred33]\n",
    "       [--tophred64]\n",
    "       [--trailing TRAILING]\n",
    "```"
   ]
  },
  {
   "cell_type": "code",
   "execution_count": null,
   "id": "655b6f76",
   "metadata": {
    "scrolled": false
   },
   "outputs": [],
   "source": [
    "for s in sra_df[0]:\n",
    "    MINLEN = 50\n",
    "    AVGQUAL = 30\n",
    "    LEADING = 30\n",
    "    TRAILING = 30\n",
    "    HEADCROP = 10\n",
    "\n",
    "{% if cookiecutter.sequencing_technology == 'paired-end' %}\n",
    "    TRIMMOMATIC_ADAPTER = '/_conda/envs/__trimmomatic@0.39/share/trimmomatic/adapters/TruSeq3-PE.fa:2:30:10'\n",
    "{% else %}\n",
    "    TRIMMOMATIC_ADAPTER = '/_conda/envs/__trimmomatic@0.39/share/trimmomatic/adapters/TruSeq3-SE.fa:2:30:10'\n",
    "{% endif %}\n",
    "\n",
    "    trimming_yml = {\n",
    "        'threads': 16,\n",
    "        'illuminaClip': TRIMMOMATIC_ADAPTER,\n",
    "        'minlen': MINLEN,\n",
    "        'avgqual': AVGQUAL,\n",
    "        'leading': LEADING,\n",
    "        'trailing': TRAILING,\n",
    "        'headcrop': HEADCROP,\n",
    "        'input_files': [\n",
    "{% if cookiecutter.sequencing_technology == 'paired-end' %}\n",
    "            [{'class': 'File', 'path': '/data/{}_1.fastq.gz'.format(s)},\n",
    "            {'class': 'File', 'path': '/data/{}_2.fastq.gz'.format(s)}]\n",
    "{% else %}\n",
    "            {'class': 'File', 'path': '/data/{}.fastq.gz'.format(s)}\n",
    "{% endif %}\n",
    "        ]\n",
    "    }\n",
    "    trimming_file = '{}_trimming.yml'.format(s)\n",
    "    write_to_yaml(trimming_yml, trimming_file)  \n",
    "    !gsutil cp {trimming_file} gs://{inbucket_name}"
   ]
  },
  {
   "cell_type": "markdown",
   "id": "45423ba4",
   "metadata": {},
   "source": [
    "### Submitting jobs for transfering the SRA files to GCP"
   ]
  },
  {
   "cell_type": "code",
   "execution_count": null,
   "id": "2126f864",
   "metadata": {},
   "outputs": [],
   "source": [
    "operations = {\n",
    "    'logs':{},\n",
    "    'operations': pandas.DataFrame(columns=['sample', 'id', 'status'])}\n",
    "{% if cookiecutter.sequencing_technology == 'paired-end' %}\n",
    "PIPELINE = os.path.join(BIN, 'gcp', 'pipeline-trimming-fastq-pe.json')\n",
    "{% else %}\n",
    "PIPELINE = os.path.join(BIN, 'gcp', 'pipeline-trimming-fastq-se.json')\n",
    "{% endif %}\n",
    "update_pipeline(PIPELINE, ZONES, MACHINE_TYPE, LOCAL_SSD_SIZE, PREEMPTIBLE)\n",
    "\n",
    "os.chdir(result_dir)\n",
    "op_dir = os.path.join(result_dir, 'gcp')\n",
    "if not os.path.exists(op_dir):\n",
    "    os.mkdir(op_dir) \n",
    "os.chdir(op_dir)\n",
    "           \n",
    "if os.path.exists('operations-trimming-fastq.tsv'):\n",
    "    operations['operations'] = pandas.read_csv('operations-trimming-fastq.tsv', sep='\\t')\n",
    "\n",
    "d = []\n",
    "for f in sra_df[0].unique():\n",
    "    if f not in operations['operations']['sample'].unique():\n",
    "        print('Submitting sample: ' + f)\n",
    "        a = !gcloud beta lifesciences pipelines run --pipeline-file={PIPELINE} --env-vars=OUTBUCKET={outbucket_name},INBUCKET={inbucket_name},SAMPLE={f}\n",
    "        if len(a) == 1 and a[0].startswith('Running'):\n",
    "            a = a[0].replace('].','').split('/')[5]\n",
    "            d.append([f, a, 'running'])\n",
    "        else:\n",
    "            d.append([f, None, a])\n",
    "\n",
    "if d:\n",
    "    operations['operations'] = pandas.concat([operations['operations'], pandas.DataFrame(d, columns=['sample', 'id', 'status'])])\n",
    "    operations['operations'].to_csv('operations-trimming-fastq.tsv', sep='\\t', index=None)\n",
    "\n",
    "display(operations['operations'])"
   ]
  },
  {
   "cell_type": "markdown",
   "id": "17943d3e",
   "metadata": {},
   "source": [
    "### GCP log retrival for plotting\n",
    "This cell will download the GCP logs for completed operations (jobs) creating the `sample.json` files for each sample."
   ]
  },
  {
   "cell_type": "code",
   "execution_count": null,
   "id": "5552dbbc",
   "metadata": {},
   "outputs": [],
   "source": [
    "os.chdir(op_dir)\n",
    "\n",
    "df = operations['operations'].dropna()\n",
    "data = []\n",
    "with_error = []\n",
    "count_running = 0\n",
    "for i, r in df.iterrows():\n",
    "    id = r['id']\n",
    "    if os.path.exists('{}.json.gz'.format(r['sample'])):\n",
    "        with gzip.GzipFile('{}.json.gz'.format(r['sample']), 'r') as fin:\n",
    "            operations['logs'][r['sample']] = json.loads(fin.read().decode('utf-8'))\n",
    "    else:\n",
    "        if r['sample'] not in operations['logs']:\n",
    "            a = !gcloud beta lifesciences operations describe --format=json {id}\n",
    "            l = json.loads(''.join(a))\n",
    "            if 'done' in l:\n",
    "                if 'error' not in l:\n",
    "                    operations['logs'][r['sample']] = l\n",
    "                    with gzip.GzipFile('{}.json.gz'.format(r['sample']), 'w') as fout:   # 4. gzip\n",
    "                        fout.write(json.dumps(l, indent=2).encode('utf-8'))\n",
    "                else:\n",
    "                    with_error.append(id)\n",
    "            else:\n",
    "                count_running += 1\n",
    "    if r['sample'] in operations['logs']:\n",
    "        ts = get_gpc_starttimestamp(operations['logs'][r['sample']])\n",
    "        ts = datetime.strptime(ts.split('.')[0], \"%Y-%m-%dT%H:%M:%S\")\n",
    "        te = datetime.strptime(operations['logs'][r['sample']]['metadata']['endTime'].split('.')[0], \"%Y-%m-%dT%H:%M:%S\")\n",
    "        elapsed = te - ts\n",
    "        data.append([r['sample'], elapsed])\n",
    "\n",
    "if count_running != 0:\n",
    "    print('Still running {}'.format(count_running))\n",
    "\n",
    "if with_error:\n",
    "    operations['operations'] = df[~df['id'].isin(with_error)]\n",
    "    operations['operations'].to_csv('operations-trimming-fastq.tsv', sep='\\t', index=None)\n",
    "    print('{} runs with errors. Please rerun previous cell'.format(len(with_error)))\n",
    "elif count_running == 0:\n",
    "    operations['gcp'] = pandas.DataFrame(data, columns=['Sample', 'Time'])\n",
    "    operations['gcp']['Time'] = operations['gcp']['Time']/pandas.Timedelta('1 minute')\n",
    "    display(operations['gcp'])\n",
    "    MACHINE_PRICE = 0.16 # n1-standard-16 preemptible\n",
    "    print('Computing cost cost: $ {:.2f}'.format(operations['gcp']['Time'].sum() * MACHINE_PRICE/60))\n"
   ]
  },
  {
   "cell_type": "markdown",
   "id": "280b1ea0",
   "metadata": {},
   "source": [
    "## Downloading FastQC results from GCP"
   ]
  },
  {
   "cell_type": "code",
   "execution_count": null,
   "id": "3d755f7e",
   "metadata": {},
   "outputs": [],
   "source": [
    "os.chdir(result_dir)\n",
    "!gsutil -q -m -o 'GSUtil:parallel_composite_upload_threshold=150M' -o 'GSUtil:parallel_process_count=4' -o 'GSUtil:parallel_thread_count=4' rsync -x '.*\\.fastq\\.gz' gs://{outbucket_name}/ ./\n"
   ]
  },
  {
   "cell_type": "code",
   "execution_count": null,
   "id": "94960dc1",
   "metadata": {
    "pycharm": {
     "name": "#%%\n"
    }
   },
   "outputs": [],
   "source": [
    "str_msg = '#### FastQC report\\n'\n",
    "display(Markdown(str_msg))\n",
    "os.chdir(NOTEBOOKS)\n",
    "\n",
    "base_url = 'https://storage.cloud.google.com/{}/'.format(outbucket_name)\n",
    "\n",
    "str_msg = '| Sample | FastQC<br>Report | No of Reads<br>in fastq | Seq<br> Len | %GC '\n",
    "str_msg += '| Poor<br>Quality | Fail<br>Tests |\\n'\n",
    "str_msg += '| --- | --- |--- | --- | --- | --- | --- |\\n'\n",
    "for sample in sra_df[0].unique():\n",
    "{% if cookiecutter.sequencing_technology == 'paired-end' %}\n",
    "    for r in range(1,3):\n",
    "        s = '{}_{}'.format(sample, r)\n",
    "        str_msg += '| <a href=\"{0}{1}.fastq.gz\" target=\"_blank\">{1}</a>'.format(base_url, s)\n",
    "        str_msg += '| '\n",
    "        str_msg += find_file_print_link_size(result_dir, s, '.html', 'MB', ' --- ')\n",
    "        str_msg += ' |'\n",
    "        f = os.path.relpath(os.path.join(result_dir, s + '_fastqc.zip'))\n",
    "        if os.path.exists(f) and os.path.getsize(f) != 0:\n",
    "            tests, tot_seq, poor_quality, seq_len, gc_content = parse_fastqc_zip(f)            \n",
    "            str_msg += \"{:,}\".format(tot_seq) + '|'\n",
    "            str_msg += seq_len + '|'\n",
    "            str_msg += gc_content + '|'\n",
    "            str_msg += str(poor_quality) + '|'\n",
    "            fail_tests = ''\n",
    "            for t in tests:\n",
    "                if tests[t] == 'FAIL':\n",
    "                    if fail_tests:\n",
    "                        fail_tests += '<br>'\n",
    "                    fail_tests += t\n",
    "            str_msg += fail_tests + '|\\n'\n",
    "\n",
    "        else:\n",
    "            str_msg += ' --- | --- | --- | --- | --- |\\n'\n",
    "{% else %}\n",
    "    str_msg += '| <a href=\"{0}{1}.fastq.gz\" target=\"_blank\">{1}</a>'.format(base_url, sample)\n",
    "    str_msg += '| '\n",
    "    str_msg += find_file_print_link_size(result_dir, sample, '.html', 'MB', ' --- ')\n",
    "    str_msg += ' |'\n",
    "    f = os.path.relpath(os.path.join(result_dir, s + '_fastqc.zip'))\n",
    "    if os.path.exists(f) and os.path.getsize(f) != 0:\n",
    "        tests, tot_seq, poor_quality, seq_len, gc_content = parse_fastqc_zip(f)\n",
    "        str_msg += \"{:,}\".format(tot_seq) + '|'\n",
    "        str_msg += seq_len + '|'\n",
    "        str_msg += gc_content + '|'\n",
    "        str_msg += str(poor_quality) + '|'\n",
    "        fail_tests = ''\n",
    "        for t in tests:\n",
    "            if tests[t] == 'FAIL':\n",
    "                if fail_tests:\n",
    "                    fail_tests += '<br>'\n",
    "                fail_tests += t\n",
    "        str_msg += fail_tests + '|\\n'\n",
    "\n",
    "    else:\n",
    "        str_msg += ' --- | --- | --- | --- | --- |\\n'\n",
    "{% endif %}\n",
    "display(Markdown(str_msg))\n",
    "del str_msg"
   ]
  }
 ],
 "metadata": {
  "kernelspec": {
   "display_name": "Python 3",
   "language": "python",
   "name": "python3"
  },
  "language_info": {
   "codemirror_mode": {
    "name": "ipython",
    "version": 3
   },
   "file_extension": ".py",
   "mimetype": "text/x-python",
   "name": "python",
   "nbconvert_exporter": "python",
   "pygments_lexer": "ipython3",
   "version": "3.8.10"
  }
 },
 "nbformat": 4,
 "nbformat_minor": 5
}