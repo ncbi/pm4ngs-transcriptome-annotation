{
 "cells": [
  {
   "cell_type": "markdown",
   "id": "c85f3e9f",
   "metadata": {},
   "source": [
    "### SRA data transfer to GCP Storage\n",
    "\n"
   ]
  },
  {
   "cell_type": "code",
   "execution_count": null,
   "id": "f0360b77",
   "metadata": {},
   "outputs": [],
   "source": [
    "%run ../config/init.py"
   ]
  },
  {
   "cell_type": "markdown",
   "id": "70b46efd",
   "metadata": {},
   "source": [
    "### Loading data from {{ cookiecutter.dataset_name }}/sample_table.csv accession list\n",
    "\n",
    "The file `{{ cookiecutter.dataset_name }}/sample_table.cs` should contains a single column with all SRA IDs to be processed."
   ]
  },
  {
   "cell_type": "code",
   "execution_count": null,
   "id": "15f18ea0",
   "metadata": {},
   "outputs": [],
   "source": [
    "os.chdir(os.path.join(DATA, DATASET))\n",
    "PIPELINE_JSON = os.path.join(BIN, 'gcp', 'pipeline-download-sra.json')\n",
    "sra_df = pandas.read_csv(os.path.join(DATA, DATASET, 'sample_table.csv'), header=None)\n",
    "sra_df"
   ]
  },
  {
   "cell_type": "markdown",
   "id": "8f25a305",
   "metadata": {},
   "source": [
    "## Testing gcloud configuration\n",
    "\n",
    "### Requirements\n",
    "\n",
    "#### [Cloud SDK](https://cloud.google.com/sdk)\n",
    "\n",
    "\n",
    "Run *gcloud init* to initialize the gcloud environment and follow its instructions:\n",
    "\n",
    " `$ gcloud init`"
   ]
  },
  {
   "cell_type": "code",
   "execution_count": null,
   "id": "08d4f5ec",
   "metadata": {},
   "outputs": [],
   "source": [
    "account = !gcloud config get-value account\n",
    "account = ''.join(account)\n",
    "project = !gcloud config get-value project\n",
    "project = ''.join(project)\n",
    "if account != '(unset)' and project != '(unset)':\n",
    "    print('Using account: {} with project: {}'.format(account, project))\n",
    "else:\n",
    "    print('Please, configure Cloud SDK before running this notebook')\n",
    "    print('Open a Terminal and run: gcloud init')"
   ]
  },
  {
   "cell_type": "markdown",
   "id": "70967ca8",
   "metadata": {},
   "source": [
    "### Defining variables\n",
    "\n",
    "Edit GCP zone and region variable accordingly to your geographical location."
   ]
  },
  {
   "cell_type": "code",
   "execution_count": null,
   "id": "2a9ef410",
   "metadata": {},
   "outputs": [],
   "source": [
    "REGION = 'us-east4'\n",
    "ZONE = 'us-east4-c'"
   ]
  },
  {
   "cell_type": "markdown",
   "id": "f95e433e",
   "metadata": {},
   "source": [
    "### Create or retrieve GCP storage bucket"
   ]
  },
  {
   "cell_type": "code",
   "execution_count": null,
   "id": "0c07fbe5",
   "metadata": {},
   "outputs": [],
   "source": [
    "bucket_list = !gsutil ls\n",
    "bucket = None\n",
    "\n",
    "prefix = 'gs://{}-sra-'.format(DATASET.lower())\n",
    "for l in bucket_list:\n",
    "    if prefix in l:\n",
    "        bucket = l.replace('gs://{}-sra-'.format(DATASET.lower()),'').replace('/','')\n",
    "        break\n",
    "\n",
    "if not bucket:\n",
    "    bucket = str(uuid.uuid4())\n",
    "    bucket_name = '{}-sra-'.format(DATASET.lower()) + bucket\n",
    "    !/usr/bin/gsutil mb gs://{bucket_name}\n",
    "\n",
    "print('bucket: {}-sra-{}'.format(DATASET.lower(), bucket))"
   ]
  },
  {
   "cell_type": "markdown",
   "id": "f82bcae0",
   "metadata": {},
   "source": [
    "### Submitting jobs for transfering the SRA files to GCP"
   ]
  },
  {
   "cell_type": "code",
   "execution_count": null,
   "id": "1c3181c6",
   "metadata": {},
   "outputs": [],
   "source": [
    "operations = {}\n",
    "PIPELINE = os.path.join(BIN, 'gcp', 'pipeline-download-sra.json')\n",
    "\n",
    "op_dir = os.path.join(DATA, DATASET, 'gcp')\n",
    "if not os.path.exists(op_dir):\n",
    "    os.mkdir(op_dir) \n",
    "os.chdir(op_dir)\n",
    "   \n",
    "bucket_name = '{}-sra-'.format(DATASET.lower()) + bucket\n",
    "        \n",
    "if os.path.exists('operations-sra-download.tsv'):\n",
    "    operations['logs'] = {}\n",
    "    operations['operations'] = pandas.read_csv('operations-sra-download.tsv', sep='\\t')\n",
    "else:\n",
    "    d = []\n",
    "    for f in sra_df[0].unique():\n",
    "        a = !gcloud beta lifesciences pipelines run --pipeline-file={PIPELINE} --env-vars=OUTBUCKET={bucket_name},SAMPLE={f}\n",
    "        if len(a) == 1 and a[0].startswith('Running'):\n",
    "            a = a[0].replace('].','').split('/')[5]\n",
    "            d.append([f, a, 'running'])\n",
    "        else:\n",
    "            d.append([f, None, a])\n",
    "    operations['logs'] = {}\n",
    "    operations['operations'] = pandas.DataFrame(d, columns=['sample', 'id', 'status'])\n",
    "    operations['operations'].to_csv('operations-sra-download.tsv', sep='\\t', index=None)\n",
    "\n",
    "display(operations['operations'])"
   ]
  },
  {
   "cell_type": "markdown",
   "id": "1da0555a",
   "metadata": {},
   "source": [
    "### GCP log retrival for plotting\n",
    "This cell will download the GCP logs for completed operations (jobs) creating the `[sample.json` files for each sample. \n",
    "\n",
    "You should executed it multiple times until all operations are completed. "
   ]
  },
  {
   "cell_type": "code",
   "execution_count": null,
   "id": "c228b586",
   "metadata": {},
   "outputs": [],
   "source": [
    "os.chdir(op_dir)\n",
    "    \n",
    "df = operations['operations'].dropna()\n",
    "data = []                \n",
    "for i, r in df.iterrows():\n",
    "    id = r['id']\n",
    "    if os.path.exists('{}.json.gz'.format(r['sample'])):\n",
    "        with gzip.GzipFile('{}.json.gz'.format(r['sample']), 'r') as fin:  \n",
    "            operations['logs'][r['sample']] = json.loads(fin.read().decode('utf-8'))\n",
    "    else:\n",
    "        if r['sample'] not in operations['logs']:\n",
    "            a = !gcloud beta lifesciences operations describe --format=json {id}\n",
    "            l = json.loads(''.join(a))\n",
    "            if 'done' in l:\n",
    "                operations['logs'][r['sample']] = l\n",
    "                with gzip.GzipFile('{}.json.gz'.format(r['sample']), 'w') as fout:   # 4. gzip\n",
    "                    fout.write(json.dumps(l, indent=2).encode('utf-8'))  \n",
    "    if r['sample'] in operations['logs']:\n",
    "        ts = get_gpc_starttimestamp(operations['logs'][r['sample']])\n",
    "        ts = datetime.strptime(ts.split('.')[0], \"%Y-%m-%dT%H:%M:%S\")\n",
    "        te = datetime.strptime(operations['logs'][r['sample']]['metadata']['endTime'].split('.')[0], \"%Y-%m-%dT%H:%M:%S\")\n",
    "        elapsed = te - ts\n",
    "        data.append([r['sample'], elapsed])\n",
    "operations['gcp'] = pandas.DataFrame(data, columns=['Sample', 'Time'])\n",
    "operations['gcp']['Time'] = operations['gcp']['Time']/pandas.Timedelta('1 minute')\n",
    "display(operations['gcp'])\n",
    "\n",
    "\n",
    "MACHINE_PRICE = 0.16 # n1-standard-16 preemptible\n",
    "print('Computing cost cost: $ {:.2f}'.format(operations['gcp']['Time'].sum() * MACHINE_PRICE/60))"
   ]
  },
  {
   "cell_type": "markdown",
   "id": "d9100872",
   "metadata": {},
   "source": [
    "## Downloading results from GCP"
   ]
  },
  {
   "cell_type": "code",
   "execution_count": null,
   "id": "5042a968",
   "metadata": {},
   "outputs": [],
   "source": [
    "os.chdir(os.path.join(DATA, DATASET))\n",
    "!gsutil -m -o 'GSUtil:parallel_composite_upload_threshold=150M' -o 'GSUtil:parallel_process_count=4' -o 'GSUtil:parallel_thread_count=4' rsync -x '.*\\.fastq\\.gz' gs://{bucket_name}/ ./ \n"
   ]
  },
  {
   "cell_type": "code",
   "execution_count": null,
   "id": "c08b4ae5",
   "metadata": {},
   "outputs": [],
   "source": [
    "str_msg = '#### FastQC report\\n'\n",
    "display(Markdown(str_msg))\n",
    "os.chdir(NOTEBOOKS)\n",
    "data_dir = os.path.join(DATA, DATASET)\n",
    "base_url = 'https://storage.cloud.google.com/{}-sra-{}/'.format(DATASET.lower(), bucket)\n",
    "\n",
    "str_msg = '| Sample | FastQC<br>Report | No of Reads<br>in fastq | Seq<br> Len | %GC '\n",
    "str_msg += '| Poor<br>Quality | Fail<br>Tests |\\n'\n",
    "str_msg += '| --- | --- |--- | --- | --- | --- | --- |\\n'\n",
    "for sample in sra_df[0].unique():\n",
    "{% if cookiecutter.sequencing_technology == 'paired-end' %}\n",
    "    for r in range(1,3):\n",
    "        s = '{}_{}'.format(sample, r)\n",
    "        str_msg += '| <a href=\"{0}{1}.fastq.gz\" target=\"_blank\">{1}</a>'.format(base_url, s)\n",
    "        str_msg += '| '\n",
    "        str_msg += find_file_print_link_size(data_dir, s, '.html', 'MB', ' --- ')\n",
    "        str_msg += ' |'\n",
    "        f = os.path.relpath(os.path.join(data_dir, s + '_fastqc.zip'))\n",
    "        if os.path.exists(f) and os.path.getsize(f) != 0:\n",
    "            tests, tot_seq, poor_quality, seq_len, gc_content = parse_fastqc_zip(f)            \n",
    "            str_msg += \"{:,}\".format(tot_seq) + '|'\n",
    "            str_msg += seq_len + '|'\n",
    "            str_msg += gc_content + '|'\n",
    "            str_msg += str(poor_quality) + '|'\n",
    "            fail_tests = ''\n",
    "            for t in tests:\n",
    "                if tests[t] == 'FAIL':\n",
    "                    if fail_tests:\n",
    "                        fail_tests += '<br>'\n",
    "                    fail_tests += t\n",
    "            str_msg += fail_tests + '|\\n'\n",
    "\n",
    "        else:\n",
    "            str_msg += ' --- | --- | --- | --- | --- |\\n'\n",
    "{% else %}\n",
    "    str_msg += '| <a href=\"{0}{1}.fastq.gz\" target=\"_blank\">{1}</a>'.format(base_url, sample)\n",
    "    str_msg += '| '\n",
    "    str_msg += find_file_print_link_size(data_dir, sample, '.html', 'MB', ' --- ')\n",
    "    str_msg += ' |'\n",
    "    f = os.path.relpath(os.path.join(data_dir, s + '_fastqc.zip'))\n",
    "    if os.path.exists(f) and os.path.getsize(f) != 0:\n",
    "        tests, tot_seq, poor_quality, seq_len, gc_content = parse_fastqc_zip(f)\n",
    "        str_msg += \"{:,}\".format(tot_seq) + '|'\n",
    "        str_msg += seq_len + '|'\n",
    "        str_msg += gc_content + '|'\n",
    "        str_msg += str(poor_quality) + '|'\n",
    "        fail_tests = ''\n",
    "        for t in tests:\n",
    "            if tests[t] == 'FAIL':\n",
    "                if fail_tests:\n",
    "                    fail_tests += '<br>'\n",
    "                fail_tests += t\n",
    "        str_msg += fail_tests + '|\\n'\n",
    "\n",
    "    else:\n",
    "        str_msg += ' --- | --- | --- | --- | --- |\\n'\n",
    "{% endif %}\n",
    "\n",
    "display(Markdown(str_msg))\n",
    "del str_msg"
   ]
  }
 ],
 "metadata": {
  "kernelspec": {
   "display_name": "Python 3",
   "language": "python",
   "name": "python3"
  },
  "language_info": {
   "codemirror_mode": {
    "name": "ipython",
    "version": 3
   },
   "file_extension": ".py",
   "mimetype": "text/x-python",
   "name": "python",
   "nbconvert_exporter": "python",
   "pygments_lexer": "ipython3",
   "version": "3.8.10"
  }
 },
 "nbformat": 4,
 "nbformat_minor": 5
}