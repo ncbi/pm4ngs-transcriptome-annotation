{
 "cells": [
  {
   "cell_type": "markdown",
   "metadata": {},
   "source": [
    "# Processing the RPSBlastP results"
   ]
  },
  {
   "cell_type": "code",
   "execution_count": null,
   "metadata": {},
   "outputs": [],
   "source": [
    "%run ../config/init.py"
   ]
  },
  {
   "cell_type": "code",
   "execution_count": null,
   "metadata": {
    "scrolled": false
   },
   "outputs": [],
   "source": [
    "# Downloading CDD database\n",
    "if not os.path.exists(os.path.join(DATA, 'family_superfamily_links')):\n",
    "    os.chdir(DATA)\n",
    "    !wget https://ftp.ncbi.nih.gov/pub/mmdb/cdd/family_superfamily_links\n",
    "families = pandas.read_csv(os.path.join(DATA, 'family_superfamily_links'), sep='\\t', header=None)\n",
    "families = families.rename(columns={0:'family', 1:'CDDID', 2:'superfamily', 3:'superCDDID'})\n",
    "families.head()"
   ]
  },
  {
   "cell_type": "code",
   "execution_count": null,
   "metadata": {},
   "outputs": [],
   "source": [
    "TRANSCRIPTOME_FILE = os.path.join(RESULTS, DATASET, 'trinity_assembly', 'Trinity.fasta.gz')\n",
    "data = []\n",
    "with gzip.open(TRANSCRIPTOME_FILE, \"rt\") as handle:\n",
    "    for record in SeqIO.parse(handle, \"fasta\"):\n",
    "        data.append([record.id, len(record.seq)])\n",
    "trans_len = pandas.DataFrame(data)"
   ]
  },
  {
   "cell_type": "markdown",
   "metadata": {},
   "source": [
    "### Loading sample list from GCP operations"
   ]
  },
  {
   "cell_type": "code",
   "execution_count": null,
   "metadata": {},
   "outputs": [],
   "source": [
    "samples = pandas.read_csv(os.path.join(RESULTS, DATASET, 'annotation','gcp', 'operations.tsv'), sep='\\t')\n",
    "samples = samples['sample']\n",
    "bar_length = len(samples)"
   ]
  },
  {
   "cell_type": "markdown",
   "metadata": {},
   "source": [
    "### Loading RPSBlastP results "
   ]
  },
  {
   "cell_type": "code",
   "execution_count": null,
   "metadata": {},
   "outputs": [],
   "source": [
    "%%time\n",
    "\n",
    "rps = pandas.DataFrame()\n",
    "data = []\n",
    "total = 0\n",
    "j = 1\n",
    "for s in samples:\n",
    "    fasta = {}\n",
    "    with gzip.open(os.path.join(RESULTS, DATASET, 'annotation', 'blasts', s, s + '_nocont_transdecoder.fsa.gz'), \"rt\") as handle:\n",
    "        for record in SeqIO.parse(handle, \"fasta\"):\n",
    "            f = record.id.split('.')\n",
    "            c = fasta.setdefault(f[0], {})\n",
    "            c[f[1]] = { 'strand':record.description[-2:-1]}\n",
    "    d = pandas.read_csv(os.path.join(RESULTS, DATASET, 'annotation', 'blasts', s, s + '_nocont_rpsblast.tsv.gz'), sep='\\t', header=None)\n",
    "    new = d[0].str.split(\".\", n = 1, expand = True)\n",
    "    d[0] = new[0]\n",
    "    d[6] = new[1]\n",
    "    new = d[2].str.split(\":\", n = 1, expand = True)\n",
    "    d[2] = new[1]\n",
    "    d = d.rename(columns={2:'C'})\n",
    "    d = d.assign(C=d.C.astype(int))\n",
    "    d = d.rename(columns={'C':2})\n",
    "    d = d.drop_duplicates()\n",
    "    total += len(d)\n",
    "    for k, v in fasta.items():\n",
    "        if len(v) > 1:\n",
    "            minus = 0\n",
    "            minus_l = []\n",
    "            plus = 0\n",
    "            plus_l = []\n",
    "            for i, r in d[d[0] == k][[0,6]].groupby(6).count().reset_index().iterrows():\n",
    "                fasta[k][r[6]]['hits'] = r[0]\n",
    "                if fasta[k][r[6]]['strand'] == '+':\n",
    "                    plus += r[0]\n",
    "                    plus_l.append(r[6])\n",
    "                else:\n",
    "                    minus += r[0]\n",
    "                    minus_l.append(r[6])\n",
    "            if plus > minus and minus > 0:\n",
    "                for p in minus_l:\n",
    "                    d = d.drop(d[(d[0] == k) & (d[6] == p)].index)\n",
    "            elif minus > plus and plus > 0:\n",
    "                for p in plus_l:\n",
    "                    d = d.drop(d[(d[0] == k) & (d[6] == p)].index)\n",
    "    \n",
    "    dt = pandas.read_csv(os.path.join(RESULTS, DATASET, 'annotation', 'blasts', s, s + '_nocont_rpstblastn.tsv.gz'), sep='\\t', header=None)\n",
    "    new = dt[2].str.split(\":\", n = 1, expand = True)\n",
    "    dt[2] = new[1]\n",
    "    dt = dt.rename(columns={2:'C'})\n",
    "    dt = dt.assign(C=dt.C.astype(int))\n",
    "    dt = dt.rename(columns={'C':2})\n",
    "    dt[6] = ''\n",
    "    rps = pandas.concat([rps, d, dt])   \n",
    "    text = \"{0:8} [{1}] {2}/{3}\".format(s, \"#\" * j + \"-\" * (bar_length - j), len(rps), total)\n",
    "    print(text, end='\\r')\n",
    "    j += 1\n",
    "    del d\n",
    "print('\\n')\n",
    "rps = rps.merge(families, left_on=2, right_on='CDDID')[[0,'family', 'CDDID', 'superfamily', 'superCDDID', 3,4,5, 6]]\n",
    "rps.to_csv(os.path.join(RESULTS, DATASET, 'cdd-rps.tsv.gz'), header=None, sep='\\t', index=None, compression='gzip')\n",
    "rps.head()\n",
    "\n",
    "\n"
   ]
  },
  {
   "cell_type": "code",
   "execution_count": null,
   "metadata": {},
   "outputs": [],
   "source": [
    "df = rps[[0,'CDDID', 'superCDDID', 4, 6]]\n",
    "df = df.sort_values(by=[0,'superCDDID',6])\n",
    "df = df.drop_duplicates(subset=[0,'CDDID','superCDDID'], keep='last')\n",
    "df.to_csv(os.path.join(RESULTS, DATASET, 'cdd.tsv.gz'), header=None, sep='\\t', index=None, compression='gzip')\n"
   ]
  },
  {
   "cell_type": "code",
   "execution_count": null,
   "metadata": {},
   "outputs": [],
   "source": [
    "df1 = rps[[0,'family']].drop_duplicates()\n",
    "df1 = df1[df1['family'].str.startswith('cd')]\n",
    "print('{}/{}'.format(len(df1), len(df)))\n",
    "\n",
    "print('\\n{} pair transcript CDD ID'.format(len(df1)))\n",
    "print('{} transcripts CDD ID'.format(len(df1[0].unique())))\n",
    "display(df1.head())\n",
    "\n",
    "df4 = df1.groupby(0).count()\n",
    "df4 = df4.reset_index()\n",
    "df5 = df4.merge(trans_len, on=0)\n",
    "df5 = df5.rename(columns={0:'Transcript', 1:'Length'})\n",
    "df5 = df5.sort_values('Length')\n",
    "df5 = df5[df5['Length'] <= 4500]\n",
    "display(df5.head())\n",
    "\n",
    "fig = plt.figure(figsize=(16,10), constrained_layout=True)\n",
    "\n",
    "gs = GridSpec(2, 2, figure=fig)\n",
    "\n",
    "ax0 = fig.add_subplot(gs[0, :])\n",
    "\n",
    "ax0.bar(df5.Length, height=df5.family)\n",
    "ax0.set_title('Barplot transcript length vs no. CDD Families');\n",
    "ax0.set_ylabel(\"No of CDD ID\")\n",
    "ax0.set_xlabel(\"Transcript Length\")\n",
    "\n",
    "ax1 = fig.add_subplot(gs[1, 0])\n",
    "\n",
    "n, bins, patches = ax1.hist(df5.family, 100, facecolor='blue', alpha=0.5)\n",
    "ax1.set_xlabel('No of CDD Families')\n",
    "ax1.set_ylabel('No of Transcripts')\n",
    "ax1.set_title('Histogram of CDD ID')\n",
    "\n",
    "ax2 = fig.add_subplot(gs[1, 1])\n",
    "n, bins, patches = ax2.hist(df5.Length, 100, facecolor='blue', alpha=0.5)\n",
    "ax2.set_xlabel('Transcript Length')\n",
    "ax2.set_ylabel('')\n",
    "ax2.set_title('Histogram of Transcript Length')"
   ]
  },
  {
   "cell_type": "code",
   "execution_count": null,
   "metadata": {
    "scrolled": false,
    "pycharm": {
     "name": "#%%\n"
    }
   },
   "outputs": [],
   "source": [
    "df1 = rps[[0,'superfamily']].drop_duplicates()\n",
    "df1 = df1[df1['superfamily'].str.startswith('cl')]\n",
    "print('{}/{}'.format(len(df1), len(df)))\n",
    "\n",
    "print('\\n{} pair transcript CDD ID'.format(len(df1)))\n",
    "print('{} transcripts CDD ID'.format(len(df1[0].unique())))\n",
    "display(df1.head())\n",
    "\n",
    "df4 = df1.groupby(0).count()\n",
    "df4 = df4.reset_index()\n",
    "df5 = df4.merge(trans_len, on=0)\n",
    "df5 = df5.rename(columns={0:'Transcript', 1:'Length'})\n",
    "df5 = df5.sort_values('Length')\n",
    "df5 = df5[df5['Length'] <= 4500]\n",
    "display(df5.head())\n",
    "\n",
    "fig = plt.figure(figsize=(16,10), constrained_layout=True)\n",
    "\n",
    "gs = GridSpec(2, 2, figure=fig)\n",
    "\n",
    "ax0 = fig.add_subplot(gs[0, :])\n",
    "\n",
    "ax0.bar(df5.Length, height=df5.superfamily)\n",
    "ax0.set_title('Barplot transcript length vs no. CDD Superfamilies');\n",
    "ax0.set_ylabel(\"No of CDD ID\")\n",
    "ax0.set_xlabel(\"Transcript Length\")\n",
    "\n",
    "ax1 = fig.add_subplot(gs[1, 0])\n",
    "\n",
    "n, bins, patches = ax1.hist(df5.superfamily, 100, facecolor='blue', alpha=0.5)\n",
    "ax1.set_xlabel('No of CDD Superfamilies')\n",
    "ax1.set_ylabel('No of Transcripts')\n",
    "ax1.set_title('Histogram of CDD ID')\n",
    "\n",
    "ax2 = fig.add_subplot(gs[1, 1])\n",
    "n, bins, patches = ax2.hist(df5.Length, 100, facecolor='blue', alpha=0.5)\n",
    "ax2.set_xlabel('Transcript Length')\n",
    "ax2.set_ylabel('')\n",
    "ax2.set_title('Histogram of Transcript Length')\n"
   ]
  }
 ],
 "metadata": {
  "kernelspec": {
   "display_name": "Python 3",
   "language": "python",
   "name": "python3"
  },
  "language_info": {
   "codemirror_mode": {
    "name": "ipython",
    "version": 3
   },
   "file_extension": ".py",
   "mimetype": "text/x-python",
   "name": "python",
   "nbconvert_exporter": "python",
   "pygments_lexer": "ipython3",
   "version": "3.8.10"
  }
 },
 "nbformat": 4,
 "nbformat_minor": 4
}